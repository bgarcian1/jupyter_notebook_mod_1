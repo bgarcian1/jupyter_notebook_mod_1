{
 "cells": [
  {
   "cell_type": "code",
   "execution_count": 8,
   "metadata": {},
   "outputs": [
    {
     "name": "stdout",
     "output_type": "stream",
     "text": [
      "arejaN aicraG adnerB\n"
     ]
    }
   ],
   "source": [
    "# 1. Accept the user's first and last name and print them in reverse order with a space between them\n",
    "I1= input(\"Enter your first name\") # asking for first name\n",
    "I2= input(\"Enter your last name:\") # asking for last name\n",
    "I3= I1 + ' ' + I2 # adding the two strings together (was just trying to see how to add strings)\n",
    "    # Could have been simplified to:\n",
    "        # I1= input(\"Enter your first and last name:\")\n",
    "        # print(I1 [::-1])\n",
    "print(I3 [::-1]) # printing the whole name in reverse"
   ]
  },
  {
   "cell_type": "code",
   "execution_count": 23,
   "metadata": {},
   "outputs": [
    {
     "name": "stdout",
     "output_type": "stream",
     "text": [
      "492\n"
     ]
    }
   ],
   "source": [
    "# 2. Accept an integer No input from the user and compute the value of n+nn+nnn. For example if n=4 then n + nn + nnn = 4 + 44 + 444 = 492\n",
    "n= int(input(\"choose an integer value for n: \")) # asking for input\n",
    "n1= int(\"%s\" % n) # finding n\n",
    "n2= int(\"%s%s\" % (n,n)) # finding nn\n",
    "n3= int(\"%s%s%s\" % (n, n, n)) # finding nnn\n",
    "computed_value= n1 + n2 + n3; print(computed_value) # adding n + nn + nnn then printing the result\n",
    "    # Note: had to look this one up, i was trying to use %d as it was a numerical value but it wasn't working\n",
    "    # instead of returning 492 it gave 444444 so I had to use %s in the end.  "
   ]
  },
  {
   "cell_type": "code",
   "execution_count": 24,
   "metadata": {},
   "outputs": [
    {
     "name": "stdout",
     "output_type": "stream",
     "text": [
      "I have heard that USA is a beautiful country!\n"
     ]
    }
   ],
   "source": [
    "# 3. Ask the user \"What country are you from?\" then print the following statement: \"I have heard that [input] is a beautiful country!\"\n",
    "q3= input(\"What country are you from?\") # asking for input\n",
    "ans3= \"I have heard that [input] is a beautiful country!\" # setting up a response\n",
    "ans3= ans3.replace('[input]', q3) # inserting user input into the response\n",
    "print(ans3) # printing my response"
   ]
  },
  {
   "cell_type": "code",
   "execution_count": 37,
   "metadata": {},
   "outputs": [],
   "source": [
    "# 4. What is the output of the following Python code\n",
    "x = 10 # setting up x value\n",
    "y = 50 # setting up y value\n",
    "if (x ** 2 > 100 and y < 100): # beginning if statement\n",
    "    print(x, y) # stating what needs to happen when if statement is met. nothing will print if conditions aren't met\n",
    "# as it is now, there is no output because the conditions for the if statement are not met\n",
    "# if we were to change > to >= and < to <= the output printed would be 10 50\n"
   ]
  },
  {
   "cell_type": "code",
   "execution_count": 28,
   "metadata": {},
   "outputs": [
    {
     "name": "stdout",
     "output_type": "stream",
     "text": [
      "[10, 20, 30, 40]\n",
      "[10, 20, 30, 40]\n"
     ]
    }
   ],
   "source": [
    "# 5. What is the output of the following addition (+) operator, and why does this code chunk execute this way?\n",
    "a = [10, 20] # setting up x value\n",
    "b = a # setting a= b and b=a, changes to one thing impacts the other\n",
    "b += [30, 40] # adding [30, 40] to existing list [10, 20] and setting that as the new value of b (and a)-- should get [10, 20,  30, 40]\n",
    "print(a) # printing new a value (should be same as b)\n",
    "print(b) # printing new b value (should be same as a)\n",
    "\n",
    "# the outputs are:\n",
    "    # a= [10, 20, 30, 40]\n",
    "    # b= [10, 20, 30, 40]\n",
    "# my explanation of code chunk: I think it executes this way because we basically set a and b to each other so any changes made to b\n",
    "# are now changes made to a and vice versa. Also the += operator basically does the addition and changes the value of the variable\n",
    "# which is why b is now [10, 20, 30, 40] instead of [10, 20]. Furthermore, we got [10, 20, 30, 40] instead of [40, 60] as the result because\n",
    "# the way we set a and b up makes them number lists instead of matrices. if we wanted a matrix we'd have used a= np.matrix(10, 20)\n"
   ]
  },
  {
   "cell_type": "code",
   "execution_count": 31,
   "metadata": {},
   "outputs": [
    {
     "name": "stdout",
     "output_type": "stream",
     "text": [
      "2\n"
     ]
    }
   ],
   "source": [
    "# 6. What is the output of the following code and what arithmetic operators is being used here? print(2%6)\n",
    "print(2%6) \n",
    "# % is used for modulus division so % should return the remainder.\n",
    "# in this case the result should be 2 as 6 goes into 2 zero times with a remainder of 2\n"
   ]
  },
  {
   "cell_type": "code",
   "execution_count": 34,
   "metadata": {},
   "outputs": [
    {
     "name": "stdout",
     "output_type": "stream",
     "text": [
      "216\n"
     ]
    }
   ],
   "source": [
    "# 7. What is the output of the following code and what arithmetic operators are used here? print(2 * 3 ** 3 * 4)\n",
    "print(2 * 3 ** 3 * 4) # printing result, should be 216\n",
    "# it does the math and prints the result (2 *3^3 *4). \n",
    "# if we wanted to print 2 * 3 ** 3 *4 as it is we would need to use '' or \"\"-->  print(\"2 * 3 ** 3 * 4\")"
   ]
  },
  {
   "cell_type": "code",
   "execution_count": 35,
   "metadata": {},
   "outputs": [],
   "source": [
    "# 8. What is a text editor?\n",
    "# According to google, a text editor is a type of computer program that allows to you create, edit and change text files. \n",
    "# They can be used to edit code. An example of a popular text editor would be Visual Studio Code. \n"
   ]
  },
  {
   "cell_type": "code",
   "execution_count": 36,
   "metadata": {},
   "outputs": [],
   "source": [
    "# 9. What is python?\n",
    "# According to the python webpage, \"Python is an interpreted, object-oriented, high-level programming language with dynamic semantics.\""
   ]
  },
  {
   "cell_type": "code",
   "execution_count": null,
   "metadata": {},
   "outputs": [],
   "source": [
    "# 10. What is jupyter notebook, what type of python environment is it, and what alternatives are there to jupyter notebook?\n",
    "# Jupyter notebook is an open source web application. It allows you to create and share documents that contain live code, \n",
    "# visualizations, equations, and text (https://realpython.com/jupyter-notebook-introduction/). The python environment for \n",
    "# the jupyter notebook is the conda environment. There are a few alternatives to jupyter notebook such as: Visual Studio Code, Noteable, \n",
    "# Kaggle notebooks, nteract, and Jupyterlite. \n"
   ]
  }
 ],
 "metadata": {
  "kernelspec": {
   "display_name": "base",
   "language": "python",
   "name": "python3"
  },
  "language_info": {
   "name": "python",
   "version": "3.10.9"
  },
  "orig_nbformat": 4
 },
 "nbformat": 4,
 "nbformat_minor": 2
}
